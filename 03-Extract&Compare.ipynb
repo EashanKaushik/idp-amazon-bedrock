{
 "cells": [
  {
   "cell_type": "markdown",
   "id": "d8286031-68e1-41f0-a0c6-73ccd1b267ea",
   "metadata": {},
   "source": [
    "### Compare 2 images with Claude 3 Sonnet\n",
    "\n",
    "In this notebook we will use Claude 3's vision capabilities to compare to image ID's. "
   ]
  },
  {
   "cell_type": "markdown",
   "id": "b209df06-5348-45e2-aa87-c316abce557e",
   "metadata": {},
   "source": [
    "### 1. Setup Amazon Bedrock"
   ]
  },
  {
   "cell_type": "code",
   "execution_count": 70,
   "id": "33273671-37a5-4551-a693-59e4212bd09f",
   "metadata": {
    "tags": []
   },
   "outputs": [],
   "source": [
    "%%capture\n",
    "#Install dependencies \n",
    "!pip3 install -qU boto3"
   ]
  },
  {
   "cell_type": "code",
   "execution_count": 71,
   "id": "cfdcf4b9-b771-46ff-863a-fcdb4e37282b",
   "metadata": {
    "tags": []
   },
   "outputs": [
    {
     "name": "stdout",
     "output_type": "stream",
     "text": [
      "Running boto3 version: 1.34.144\n"
     ]
    }
   ],
   "source": [
    "#Imports\n",
    "import boto3\n",
    "import json, sys\n",
    "from datetime import datetime\n",
    "\n",
    "print('Running boto3 version:', boto3.__version__)"
   ]
  },
  {
   "cell_type": "code",
   "execution_count": 72,
   "id": "19340054-51c3-4ea3-bfee-4b1b990735c7",
   "metadata": {
    "tags": []
   },
   "outputs": [
    {
     "name": "stdout",
     "output_type": "stream",
     "text": [
      "Using region:  us-east-1\n"
     ]
    }
   ],
   "source": [
    "#Setting Up Bedrock Client\n",
    "region = 'us-west-2' #AWS Region\n",
    "print('Using region: ', region)\n",
    "\n",
    "bedrock = boto3.client( #Bedrock Client \n",
    "    service_name = 'bedrock-runtime',\n",
    "    region_name = region,\n",
    "    )\n",
    "#Model Id (Claude 3 Haiku)\n",
    "modelId = \"anthropic.claude-3-haiku-20240307-v1:0\"\n",
    "#Model Id (Claude 3 Sonnet)\n",
    "#modelId = \"anthropic.claude-3-sonnet-20240229-v1:0\""
   ]
  },
  {
   "cell_type": "markdown",
   "id": "9e288af2-c0a3-45bc-91c6-a5eaf0b0ea49",
   "metadata": {},
   "source": [
    "### Open Image files"
   ]
  },
  {
   "cell_type": "code",
   "execution_count": 73,
   "id": "0a59c4ee-bec2-48e4-b0a6-b9e697368604",
   "metadata": {
    "tags": []
   },
   "outputs": [],
   "source": [
    "#Open Image & convert it into Bytes (FakeLicense)\n",
    "with open(\"DriverLicense1.png\", \"rb\") as image:\n",
    "  f = image.read()\n",
    "  image_byte = bytearray(f)\n",
    "    \n",
    "with open(\"DriverLicense1Fraud.png\", \"rb\") as image:\n",
    "  f = image.read()\n",
    "  image_byte1 = bytearray(f)"
   ]
  },
  {
   "cell_type": "markdown",
   "id": "f8a95868-a53f-4986-adec-d9057d431596",
   "metadata": {},
   "source": [
    "### Bedrock Converse API Setup"
   ]
  },
  {
   "cell_type": "code",
   "execution_count": 74,
   "id": "b3154fd8-4a4b-4ff9-b817-ce64a28ca225",
   "metadata": {
    "tags": []
   },
   "outputs": [],
   "source": [
    "#Set up a function to call the Bedrock Converse API\n",
    "def invoke_bedrock_model(client, id, prompt, max_tokens=2000, temperature=0, top_p=0.9):\n",
    "    response = \"\"\n",
    "    try:\n",
    "        response = client.converse(\n",
    "            modelId=id, #Passing Along modelId\n",
    "            messages=[ #Messages is where the payload goes\n",
    "                {\n",
    "                    \"role\": \"assistant\", #Indicating AI input\n",
    "                    \"content\": [ #Content of the payload as an object \n",
    "                        {\n",
    "                            \"text\": \"You are an expert analyst at detecting fraudulent ID documents\" \n",
    "                        }\n",
    "                    ],\n",
    "                    \"role\": \"user\", #Indicating user input\n",
    "                    \"content\": [ #Content of the payload as an object \n",
    "                        {\n",
    "                            \"image\": { #Passing an image, we put this before the text as best practise \n",
    "                                \"format\": \"png\", #Image format\n",
    "                                \"source\": {\"bytes\": image_byte} #Passing image bytes \n",
    "                            }\n",
    "                        },\n",
    "                        {\n",
    "                            \"image\": { #Passing an image, we put this before the text as best practise \n",
    "                                \"format\": \"png\", #Image format\n",
    "                                \"source\": {\"bytes\": image_byte1} #Passing image bytes \n",
    "                            }\n",
    "                        },\n",
    "                        {\n",
    "                            \"text\": prompt #indicating passing text, 'prompt' variable we will create in the cell below\n",
    "                        }\n",
    "                    ]\n",
    "                }\n",
    "            ],\n",
    "            inferenceConfig={ # Inference parameters\n",
    "                \"temperature\": temperature,\n",
    "                \"maxTokens\": max_tokens,\n",
    "                \"topP\": top_p\n",
    "            }\n",
    "            #additionalModelRequestFields={\n",
    "            #}\n",
    "        )\n",
    "    except Exception as e: #Catch model invocation errors \n",
    "        print(e)\n",
    "        result = \"Model invocation error\"\n",
    "    try:\n",
    "        result = response['output']['message']['content'][0]['text'] \\\n",
    "        + '\\n--- Latency: ' + str(response['metrics']['latencyMs']) \\\n",
    "        + 'ms - Input tokens:' + str(response['usage']['inputTokens']) \\\n",
    "        + ' - Output tokens:' + str(response['usage']['outputTokens']) + ' ---\\n' \n",
    "        return result\n",
    "    except Exception as e: #Catching parsing errors \n",
    "        print(e)\n",
    "        result = \"Output parsing error\"\n",
    "    return result"
   ]
  },
  {
   "cell_type": "markdown",
   "id": "0ce25edc-d57d-439a-a118-d4af385173ff",
   "metadata": {},
   "source": [
    "### Inference "
   ]
  },
  {
   "cell_type": "code",
   "execution_count": 75,
   "id": "657fcca7-ff2f-4d14-9676-b06c917eeffd",
   "metadata": {
    "tags": []
   },
   "outputs": [],
   "source": [
    "#User Input\n",
    "#Changed from Original:\n",
    "#Darker ink in NEw York State text \n",
    "#ID changed \n",
    "#Issued date changed \n",
    "#-Anne added as middle name \n",
    "#Extra nub on the paw \n",
    "prompt = '''\n",
    "Analyze the following documents given\n",
    "The first document is our groundtruth, the second document given is under scruntiny. \n",
    "Compare & Contrast them, and find any discrepencies the second document may have.\n",
    "In specific ensure to check & comment on these fields:\n",
    "1/ First name \n",
    "2/ Middle name \n",
    "3/ Last name\n",
    "4/ Issue date\n",
    "5/ Expiry date\n",
    "6/ ID Number\n",
    "7/ Text color of the State Text\n",
    "8/ Images on the bottom right\n",
    "\n",
    "Also include the following for each document, provide them in <doc></doc> tags\n",
    "1/classification \n",
    "2/extraction of all relevant data \n",
    "3/assessment of document from a fraudulent perspective - provide details such as specific features, conditions, image and data information as part of your assessment.\n",
    "4/ Include confidence scores for steps 1- 3, each in precision .XXXX. Include your reasoning \n",
    "5/conform the extracted data into a JSON document and for upload to a backend system\n",
    "\n",
    "'''"
   ]
  },
  {
   "cell_type": "code",
   "execution_count": 76,
   "id": "2b13f2b5-bdb1-4c58-983c-95289f6bf3e9",
   "metadata": {},
   "outputs": [
    {
     "name": "stdout",
     "output_type": "stream",
     "text": [
      "<doc1>\n",
      "Classification: Genuine\n",
      "Extraction of relevant data:\n",
      "- First name: Michelle\n",
      "- Middle name: Marie\n",
      "- Last name: Motorist\n",
      "- Issue date: 03/07/2022\n",
      "- Expiry date: 10/31/2029\n",
      "- ID Number: 123 456 789\n",
      "- Text color of the State Text: Blue\n",
      "- Images on the bottom right: Bat, Maple Leaf, Paw Print\n",
      "\n",
      "Assessment: This document appears to be a genuine New York State driver's license. The information on the license, including the name, address, date of birth, and other details, is consistent with a valid government-issued ID. The design elements, such as the color scheme, images, and security features, also match the expected characteristics of a legitimate driver's license.\n",
      "\n",
      "Confidence scores:\n",
      "1. Classification: 0.9999 - The document has all the hallmarks of a genuine New York State driver's license, and there are no obvious signs of forgery or tampering.\n",
      "2. Extraction: 0.9999 - The relevant data fields are clearly visible and can be accurately extracted.\n",
      "3. Assessment: 0.9999 - The document appears to be authentic and does not raise any significant concerns from a fraudulent perspective.\n",
      "</doc1>\n",
      "\n",
      "<doc2>\n",
      "Classification: Potentially Fraudulent\n",
      "Extraction of relevant data:\n",
      "- First name: Michelle\n",
      "- Middle name: Marie-Anne\n",
      "- Last name: Motorist\n",
      "- Issue date: 08/07/2022\n",
      "- Expiry date: 10/31/2029\n",
      "- ID Number: 128 456 789\n",
      "- Text color of the State Text: Blue\n",
      "- Images on the bottom right: Bat, Maple Leaf, Paw Print\n",
      "\n",
      "Assessment: This document raises some concerns and may be potentially fraudulent. The middle name \"Marie-Anne\" is different from the first document, which raises questions about the authenticity of the information. Additionally, the issue date of 08/07/2022 is different from the first document, which could indicate that this is a modified or forged license. While the other details, such as the color scheme, images, and security features, appear to be consistent with a genuine New York State driver's license, the discrepancies in the name and issue date warrant further investigation.\n",
      "\n",
      "Confidence scores:\n",
      "1. Classification: 0.8000 - The document has some features that are consistent with a genuine license, but the differences in the middle name and issue date raise concerns about its authenticity.\n",
      "2. Extraction: 0.9999 - The relevant data fields can be accurately extracted.\n",
      "3. Assessment: 0.7500 - The discrepancies in the name and issue date suggest the document may be potentially fraudulent, but more information would be needed to make a definitive determination.\n",
      "</doc2>\n",
      "\n",
      "JSON document:\n",
      "{\n",
      "  \"doc1\": {\n",
      "    \"firstName\": \"Michelle\",\n",
      "    \"middleName\": \"Marie\",\n",
      "    \"lastName\": \"Motorist\",\n",
      "    \"issueDate\": \"03/07/2022\",\n",
      "    \"expiryDate\": \"10/31/2029\",\n",
      "    \"idNumber\": \"123 456 789\",\n",
      "    \"stateTextColor\": \"Blue\",\n",
      "    \"bottomRightImages\": [\n",
      "      \"Bat\",\n",
      "      \"Maple Leaf\",\n",
      "      \"Paw Print\"\n",
      "    ],\n",
      "    \"classification\": \"Genuine\",\n",
      "    \"confidenceScores\": {\n",
      "      \"classification\": 0.9999,\n",
      "      \"extraction\": 0.9999,\n",
      "      \"assessment\": 0.9999\n",
      "    }\n",
      "  },\n",
      "  \"doc2\": {\n",
      "    \"firstName\": \"Michelle\",\n",
      "    \"middleName\": \"Marie-Anne\",\n",
      "    \"lastName\": \"Motorist\",\n",
      "    \"issueDate\": \"08/07/2022\",\n",
      "    \"expiryDate\": \"10/31/2029\",\n",
      "    \"idNumber\": \"128 456 789\",\n",
      "    \"stateTextColor\": \"Blue\",\n",
      "    \"bottomRightImages\": [\n",
      "      \"Bat\",\n",
      "      \"Maple Leaf\",\n",
      "      \"Paw Print\"\n",
      "    ],\n",
      "    \"classification\": \"Potentially Fraudulent\",\n",
      "    \"confidenceScores\": {\n",
      "      \"classification\": 0.8000,\n",
      "      \"extraction\": 0.9999,\n",
      "      \"assessment\": 0.7500\n",
      "    }\n",
      "  }\n",
      "}\n",
      "--- Latency: 10078ms - Input tokens:1726 - Output tokens:1010 ---\n",
      "\n",
      "CPU times: user 37 ms, sys: 13 ms, total: 50 ms\n",
      "Wall time: 10.2 s\n"
     ]
    }
   ],
   "source": [
    "%%time \n",
    "#Calling the Converse API\n",
    "response = invoke_bedrock_model(bedrock, modelId, prompt)\n",
    "print(response)"
   ]
  },
  {
   "cell_type": "code",
   "execution_count": null,
   "id": "959d45e7-fa3e-424d-a806-8abc94a7a3ae",
   "metadata": {},
   "outputs": [],
   "source": []
  }
 ],
 "metadata": {
  "availableInstances": [
   {
    "_defaultOrder": 0,
    "_isFastLaunch": true,
    "category": "General purpose",
    "gpuNum": 0,
    "hideHardwareSpecs": false,
    "memoryGiB": 4,
    "name": "ml.t3.medium",
    "vcpuNum": 2
   },
   {
    "_defaultOrder": 1,
    "_isFastLaunch": false,
    "category": "General purpose",
    "gpuNum": 0,
    "hideHardwareSpecs": false,
    "memoryGiB": 8,
    "name": "ml.t3.large",
    "vcpuNum": 2
   },
   {
    "_defaultOrder": 2,
    "_isFastLaunch": false,
    "category": "General purpose",
    "gpuNum": 0,
    "hideHardwareSpecs": false,
    "memoryGiB": 16,
    "name": "ml.t3.xlarge",
    "vcpuNum": 4
   },
   {
    "_defaultOrder": 3,
    "_isFastLaunch": false,
    "category": "General purpose",
    "gpuNum": 0,
    "hideHardwareSpecs": false,
    "memoryGiB": 32,
    "name": "ml.t3.2xlarge",
    "vcpuNum": 8
   },
   {
    "_defaultOrder": 4,
    "_isFastLaunch": true,
    "category": "General purpose",
    "gpuNum": 0,
    "hideHardwareSpecs": false,
    "memoryGiB": 8,
    "name": "ml.m5.large",
    "vcpuNum": 2
   },
   {
    "_defaultOrder": 5,
    "_isFastLaunch": false,
    "category": "General purpose",
    "gpuNum": 0,
    "hideHardwareSpecs": false,
    "memoryGiB": 16,
    "name": "ml.m5.xlarge",
    "vcpuNum": 4
   },
   {
    "_defaultOrder": 6,
    "_isFastLaunch": false,
    "category": "General purpose",
    "gpuNum": 0,
    "hideHardwareSpecs": false,
    "memoryGiB": 32,
    "name": "ml.m5.2xlarge",
    "vcpuNum": 8
   },
   {
    "_defaultOrder": 7,
    "_isFastLaunch": false,
    "category": "General purpose",
    "gpuNum": 0,
    "hideHardwareSpecs": false,
    "memoryGiB": 64,
    "name": "ml.m5.4xlarge",
    "vcpuNum": 16
   },
   {
    "_defaultOrder": 8,
    "_isFastLaunch": false,
    "category": "General purpose",
    "gpuNum": 0,
    "hideHardwareSpecs": false,
    "memoryGiB": 128,
    "name": "ml.m5.8xlarge",
    "vcpuNum": 32
   },
   {
    "_defaultOrder": 9,
    "_isFastLaunch": false,
    "category": "General purpose",
    "gpuNum": 0,
    "hideHardwareSpecs": false,
    "memoryGiB": 192,
    "name": "ml.m5.12xlarge",
    "vcpuNum": 48
   },
   {
    "_defaultOrder": 10,
    "_isFastLaunch": false,
    "category": "General purpose",
    "gpuNum": 0,
    "hideHardwareSpecs": false,
    "memoryGiB": 256,
    "name": "ml.m5.16xlarge",
    "vcpuNum": 64
   },
   {
    "_defaultOrder": 11,
    "_isFastLaunch": false,
    "category": "General purpose",
    "gpuNum": 0,
    "hideHardwareSpecs": false,
    "memoryGiB": 384,
    "name": "ml.m5.24xlarge",
    "vcpuNum": 96
   },
   {
    "_defaultOrder": 12,
    "_isFastLaunch": false,
    "category": "General purpose",
    "gpuNum": 0,
    "hideHardwareSpecs": false,
    "memoryGiB": 8,
    "name": "ml.m5d.large",
    "vcpuNum": 2
   },
   {
    "_defaultOrder": 13,
    "_isFastLaunch": false,
    "category": "General purpose",
    "gpuNum": 0,
    "hideHardwareSpecs": false,
    "memoryGiB": 16,
    "name": "ml.m5d.xlarge",
    "vcpuNum": 4
   },
   {
    "_defaultOrder": 14,
    "_isFastLaunch": false,
    "category": "General purpose",
    "gpuNum": 0,
    "hideHardwareSpecs": false,
    "memoryGiB": 32,
    "name": "ml.m5d.2xlarge",
    "vcpuNum": 8
   },
   {
    "_defaultOrder": 15,
    "_isFastLaunch": false,
    "category": "General purpose",
    "gpuNum": 0,
    "hideHardwareSpecs": false,
    "memoryGiB": 64,
    "name": "ml.m5d.4xlarge",
    "vcpuNum": 16
   },
   {
    "_defaultOrder": 16,
    "_isFastLaunch": false,
    "category": "General purpose",
    "gpuNum": 0,
    "hideHardwareSpecs": false,
    "memoryGiB": 128,
    "name": "ml.m5d.8xlarge",
    "vcpuNum": 32
   },
   {
    "_defaultOrder": 17,
    "_isFastLaunch": false,
    "category": "General purpose",
    "gpuNum": 0,
    "hideHardwareSpecs": false,
    "memoryGiB": 192,
    "name": "ml.m5d.12xlarge",
    "vcpuNum": 48
   },
   {
    "_defaultOrder": 18,
    "_isFastLaunch": false,
    "category": "General purpose",
    "gpuNum": 0,
    "hideHardwareSpecs": false,
    "memoryGiB": 256,
    "name": "ml.m5d.16xlarge",
    "vcpuNum": 64
   },
   {
    "_defaultOrder": 19,
    "_isFastLaunch": false,
    "category": "General purpose",
    "gpuNum": 0,
    "hideHardwareSpecs": false,
    "memoryGiB": 384,
    "name": "ml.m5d.24xlarge",
    "vcpuNum": 96
   },
   {
    "_defaultOrder": 20,
    "_isFastLaunch": false,
    "category": "General purpose",
    "gpuNum": 0,
    "hideHardwareSpecs": true,
    "memoryGiB": 0,
    "name": "ml.geospatial.interactive",
    "supportedImageNames": [
     "sagemaker-geospatial-v1-0"
    ],
    "vcpuNum": 0
   },
   {
    "_defaultOrder": 21,
    "_isFastLaunch": true,
    "category": "Compute optimized",
    "gpuNum": 0,
    "hideHardwareSpecs": false,
    "memoryGiB": 4,
    "name": "ml.c5.large",
    "vcpuNum": 2
   },
   {
    "_defaultOrder": 22,
    "_isFastLaunch": false,
    "category": "Compute optimized",
    "gpuNum": 0,
    "hideHardwareSpecs": false,
    "memoryGiB": 8,
    "name": "ml.c5.xlarge",
    "vcpuNum": 4
   },
   {
    "_defaultOrder": 23,
    "_isFastLaunch": false,
    "category": "Compute optimized",
    "gpuNum": 0,
    "hideHardwareSpecs": false,
    "memoryGiB": 16,
    "name": "ml.c5.2xlarge",
    "vcpuNum": 8
   },
   {
    "_defaultOrder": 24,
    "_isFastLaunch": false,
    "category": "Compute optimized",
    "gpuNum": 0,
    "hideHardwareSpecs": false,
    "memoryGiB": 32,
    "name": "ml.c5.4xlarge",
    "vcpuNum": 16
   },
   {
    "_defaultOrder": 25,
    "_isFastLaunch": false,
    "category": "Compute optimized",
    "gpuNum": 0,
    "hideHardwareSpecs": false,
    "memoryGiB": 72,
    "name": "ml.c5.9xlarge",
    "vcpuNum": 36
   },
   {
    "_defaultOrder": 26,
    "_isFastLaunch": false,
    "category": "Compute optimized",
    "gpuNum": 0,
    "hideHardwareSpecs": false,
    "memoryGiB": 96,
    "name": "ml.c5.12xlarge",
    "vcpuNum": 48
   },
   {
    "_defaultOrder": 27,
    "_isFastLaunch": false,
    "category": "Compute optimized",
    "gpuNum": 0,
    "hideHardwareSpecs": false,
    "memoryGiB": 144,
    "name": "ml.c5.18xlarge",
    "vcpuNum": 72
   },
   {
    "_defaultOrder": 28,
    "_isFastLaunch": false,
    "category": "Compute optimized",
    "gpuNum": 0,
    "hideHardwareSpecs": false,
    "memoryGiB": 192,
    "name": "ml.c5.24xlarge",
    "vcpuNum": 96
   },
   {
    "_defaultOrder": 29,
    "_isFastLaunch": true,
    "category": "Accelerated computing",
    "gpuNum": 1,
    "hideHardwareSpecs": false,
    "memoryGiB": 16,
    "name": "ml.g4dn.xlarge",
    "vcpuNum": 4
   },
   {
    "_defaultOrder": 30,
    "_isFastLaunch": false,
    "category": "Accelerated computing",
    "gpuNum": 1,
    "hideHardwareSpecs": false,
    "memoryGiB": 32,
    "name": "ml.g4dn.2xlarge",
    "vcpuNum": 8
   },
   {
    "_defaultOrder": 31,
    "_isFastLaunch": false,
    "category": "Accelerated computing",
    "gpuNum": 1,
    "hideHardwareSpecs": false,
    "memoryGiB": 64,
    "name": "ml.g4dn.4xlarge",
    "vcpuNum": 16
   },
   {
    "_defaultOrder": 32,
    "_isFastLaunch": false,
    "category": "Accelerated computing",
    "gpuNum": 1,
    "hideHardwareSpecs": false,
    "memoryGiB": 128,
    "name": "ml.g4dn.8xlarge",
    "vcpuNum": 32
   },
   {
    "_defaultOrder": 33,
    "_isFastLaunch": false,
    "category": "Accelerated computing",
    "gpuNum": 4,
    "hideHardwareSpecs": false,
    "memoryGiB": 192,
    "name": "ml.g4dn.12xlarge",
    "vcpuNum": 48
   },
   {
    "_defaultOrder": 34,
    "_isFastLaunch": false,
    "category": "Accelerated computing",
    "gpuNum": 1,
    "hideHardwareSpecs": false,
    "memoryGiB": 256,
    "name": "ml.g4dn.16xlarge",
    "vcpuNum": 64
   },
   {
    "_defaultOrder": 35,
    "_isFastLaunch": false,
    "category": "Accelerated computing",
    "gpuNum": 1,
    "hideHardwareSpecs": false,
    "memoryGiB": 61,
    "name": "ml.p3.2xlarge",
    "vcpuNum": 8
   },
   {
    "_defaultOrder": 36,
    "_isFastLaunch": false,
    "category": "Accelerated computing",
    "gpuNum": 4,
    "hideHardwareSpecs": false,
    "memoryGiB": 244,
    "name": "ml.p3.8xlarge",
    "vcpuNum": 32
   },
   {
    "_defaultOrder": 37,
    "_isFastLaunch": false,
    "category": "Accelerated computing",
    "gpuNum": 8,
    "hideHardwareSpecs": false,
    "memoryGiB": 488,
    "name": "ml.p3.16xlarge",
    "vcpuNum": 64
   },
   {
    "_defaultOrder": 38,
    "_isFastLaunch": false,
    "category": "Accelerated computing",
    "gpuNum": 8,
    "hideHardwareSpecs": false,
    "memoryGiB": 768,
    "name": "ml.p3dn.24xlarge",
    "vcpuNum": 96
   },
   {
    "_defaultOrder": 39,
    "_isFastLaunch": false,
    "category": "Memory Optimized",
    "gpuNum": 0,
    "hideHardwareSpecs": false,
    "memoryGiB": 16,
    "name": "ml.r5.large",
    "vcpuNum": 2
   },
   {
    "_defaultOrder": 40,
    "_isFastLaunch": false,
    "category": "Memory Optimized",
    "gpuNum": 0,
    "hideHardwareSpecs": false,
    "memoryGiB": 32,
    "name": "ml.r5.xlarge",
    "vcpuNum": 4
   },
   {
    "_defaultOrder": 41,
    "_isFastLaunch": false,
    "category": "Memory Optimized",
    "gpuNum": 0,
    "hideHardwareSpecs": false,
    "memoryGiB": 64,
    "name": "ml.r5.2xlarge",
    "vcpuNum": 8
   },
   {
    "_defaultOrder": 42,
    "_isFastLaunch": false,
    "category": "Memory Optimized",
    "gpuNum": 0,
    "hideHardwareSpecs": false,
    "memoryGiB": 128,
    "name": "ml.r5.4xlarge",
    "vcpuNum": 16
   },
   {
    "_defaultOrder": 43,
    "_isFastLaunch": false,
    "category": "Memory Optimized",
    "gpuNum": 0,
    "hideHardwareSpecs": false,
    "memoryGiB": 256,
    "name": "ml.r5.8xlarge",
    "vcpuNum": 32
   },
   {
    "_defaultOrder": 44,
    "_isFastLaunch": false,
    "category": "Memory Optimized",
    "gpuNum": 0,
    "hideHardwareSpecs": false,
    "memoryGiB": 384,
    "name": "ml.r5.12xlarge",
    "vcpuNum": 48
   },
   {
    "_defaultOrder": 45,
    "_isFastLaunch": false,
    "category": "Memory Optimized",
    "gpuNum": 0,
    "hideHardwareSpecs": false,
    "memoryGiB": 512,
    "name": "ml.r5.16xlarge",
    "vcpuNum": 64
   },
   {
    "_defaultOrder": 46,
    "_isFastLaunch": false,
    "category": "Memory Optimized",
    "gpuNum": 0,
    "hideHardwareSpecs": false,
    "memoryGiB": 768,
    "name": "ml.r5.24xlarge",
    "vcpuNum": 96
   },
   {
    "_defaultOrder": 47,
    "_isFastLaunch": false,
    "category": "Accelerated computing",
    "gpuNum": 1,
    "hideHardwareSpecs": false,
    "memoryGiB": 16,
    "name": "ml.g5.xlarge",
    "vcpuNum": 4
   },
   {
    "_defaultOrder": 48,
    "_isFastLaunch": false,
    "category": "Accelerated computing",
    "gpuNum": 1,
    "hideHardwareSpecs": false,
    "memoryGiB": 32,
    "name": "ml.g5.2xlarge",
    "vcpuNum": 8
   },
   {
    "_defaultOrder": 49,
    "_isFastLaunch": false,
    "category": "Accelerated computing",
    "gpuNum": 1,
    "hideHardwareSpecs": false,
    "memoryGiB": 64,
    "name": "ml.g5.4xlarge",
    "vcpuNum": 16
   },
   {
    "_defaultOrder": 50,
    "_isFastLaunch": false,
    "category": "Accelerated computing",
    "gpuNum": 1,
    "hideHardwareSpecs": false,
    "memoryGiB": 128,
    "name": "ml.g5.8xlarge",
    "vcpuNum": 32
   },
   {
    "_defaultOrder": 51,
    "_isFastLaunch": false,
    "category": "Accelerated computing",
    "gpuNum": 1,
    "hideHardwareSpecs": false,
    "memoryGiB": 256,
    "name": "ml.g5.16xlarge",
    "vcpuNum": 64
   },
   {
    "_defaultOrder": 52,
    "_isFastLaunch": false,
    "category": "Accelerated computing",
    "gpuNum": 4,
    "hideHardwareSpecs": false,
    "memoryGiB": 192,
    "name": "ml.g5.12xlarge",
    "vcpuNum": 48
   },
   {
    "_defaultOrder": 53,
    "_isFastLaunch": false,
    "category": "Accelerated computing",
    "gpuNum": 4,
    "hideHardwareSpecs": false,
    "memoryGiB": 384,
    "name": "ml.g5.24xlarge",
    "vcpuNum": 96
   },
   {
    "_defaultOrder": 54,
    "_isFastLaunch": false,
    "category": "Accelerated computing",
    "gpuNum": 8,
    "hideHardwareSpecs": false,
    "memoryGiB": 768,
    "name": "ml.g5.48xlarge",
    "vcpuNum": 192
   },
   {
    "_defaultOrder": 55,
    "_isFastLaunch": false,
    "category": "Accelerated computing",
    "gpuNum": 8,
    "hideHardwareSpecs": false,
    "memoryGiB": 1152,
    "name": "ml.p4d.24xlarge",
    "vcpuNum": 96
   },
   {
    "_defaultOrder": 56,
    "_isFastLaunch": false,
    "category": "Accelerated computing",
    "gpuNum": 8,
    "hideHardwareSpecs": false,
    "memoryGiB": 1152,
    "name": "ml.p4de.24xlarge",
    "vcpuNum": 96
   },
   {
    "_defaultOrder": 57,
    "_isFastLaunch": false,
    "category": "Accelerated computing",
    "gpuNum": 0,
    "hideHardwareSpecs": false,
    "memoryGiB": 32,
    "name": "ml.trn1.2xlarge",
    "vcpuNum": 8
   },
   {
    "_defaultOrder": 58,
    "_isFastLaunch": false,
    "category": "Accelerated computing",
    "gpuNum": 0,
    "hideHardwareSpecs": false,
    "memoryGiB": 512,
    "name": "ml.trn1.32xlarge",
    "vcpuNum": 128
   },
   {
    "_defaultOrder": 59,
    "_isFastLaunch": false,
    "category": "Accelerated computing",
    "gpuNum": 0,
    "hideHardwareSpecs": false,
    "memoryGiB": 512,
    "name": "ml.trn1n.32xlarge",
    "vcpuNum": 128
   }
  ],
  "instance_type": "ml.t3.medium",
  "kernelspec": {
   "display_name": "Python 3 (ipykernel) (arn:aws:sagemaker:us-east-1:081325390199:image/sagemaker-data-science-310-v1)",
   "language": "python",
   "name": "python3__SAGEMAKER_INTERNAL__arn:aws:sagemaker:us-east-1:081325390199:image/sagemaker-data-science-310-v1"
  },
  "language_info": {
   "codemirror_mode": {
    "name": "ipython",
    "version": 3
   },
   "file_extension": ".py",
   "mimetype": "text/x-python",
   "name": "python",
   "nbconvert_exporter": "python",
   "pygments_lexer": "ipython3",
   "version": "3.10.6"
  }
 },
 "nbformat": 4,
 "nbformat_minor": 5
}
