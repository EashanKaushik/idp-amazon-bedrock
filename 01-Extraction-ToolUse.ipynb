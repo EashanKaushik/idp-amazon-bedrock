{
 "cells": [
  {
   "cell_type": "markdown",
   "id": "d8286031-68e1-41f0-a0c6-73ccd1b267ea",
   "metadata": {},
   "source": [
    "### Extract Information from uploaded ID Cards using Claude 3 Sonnet + Bedrock Converse API\n",
    "\n",
    "In this notebook we will look at using Amazon Bedrock's Converse API with Tool Use to extract structured data from ID's "
   ]
  },
  {
   "cell_type": "markdown",
   "id": "58a9c77a-73e5-4933-b3e7-cdc4605e2f5d",
   "metadata": {},
   "source": [
    "### 1. Bedrock Setup"
   ]
  },
  {
   "cell_type": "code",
   "execution_count": 2,
   "id": "33273671-37a5-4551-a693-59e4212bd09f",
   "metadata": {
    "tags": []
   },
   "outputs": [],
   "source": [
    "%%capture\n",
    "#Install dependencies \n",
    "!pip3 install -qU boto3"
   ]
  },
  {
   "cell_type": "code",
   "execution_count": 3,
   "id": "cfdcf4b9-b771-46ff-863a-fcdb4e37282b",
   "metadata": {
    "tags": []
   },
   "outputs": [
    {
     "name": "stdout",
     "output_type": "stream",
     "text": [
      "Running boto3 version: 1.34.144\n"
     ]
    }
   ],
   "source": [
    "#Imports\n",
    "import boto3\n",
    "import json, sys\n",
    "from datetime import datetime\n",
    "\n",
    "print('Running boto3 version:', boto3.__version__)"
   ]
  },
  {
   "cell_type": "code",
   "execution_count": 4,
   "id": "19340054-51c3-4ea3-bfee-4b1b990735c7",
   "metadata": {
    "tags": []
   },
   "outputs": [
    {
     "name": "stdout",
     "output_type": "stream",
     "text": [
      "Using region:  us-east-1\n"
     ]
    }
   ],
   "source": [
    "#Setting Up Bedrock Client\n",
    "region = 'us-east-1' #AWS Region\n",
    "print('Using region: ', region)\n",
    "\n",
    "bedrock = boto3.client( #Bedrock Client \n",
    "    service_name = 'bedrock-runtime',\n",
    "    region_name = region,\n",
    "    )\n",
    "#Model Id (Claude 3 Sonnet)\n",
    "modelId = \"anthropic.claude-3-sonnet-20240229-v1:0\""
   ]
  },
  {
   "cell_type": "code",
   "execution_count": 5,
   "id": "e9565819-5695-4580-b1ea-205e0242ce69",
   "metadata": {},
   "outputs": [],
   "source": [
    "#Open Image & convert it into Bytes (Real License)\n",
    "with open(\"DriverLicense1.png\", \"rb\") as image:\n",
    "  f = image.read()\n",
    "  image_byte = bytearray(f)"
   ]
  },
  {
   "cell_type": "markdown",
   "id": "f8ec7fed-d667-4267-8f4b-58009df47636",
   "metadata": {},
   "source": [
    "### 2. Bedrock Converse API + Tool Use \n",
    "\n",
    "In the cell below, we are giving the LLM a tool to use. This tool named \"extract_info\" studies the image provided and extracts each piece of information asked for as a parameter. This tool will return the information as a JSON object."
   ]
  },
  {
   "cell_type": "code",
   "execution_count": 6,
   "id": "927aee8a-567b-4ecc-a03e-fdd81ad7f76b",
   "metadata": {
    "tags": []
   },
   "outputs": [],
   "source": [
    "#Tool Spec Outline \n",
    "tools = [\n",
    "    {\n",
    "        \"toolSpec\": {\n",
    "            \"name\": \"extract_info\",\n",
    "            \"description\": \"Extract the following details from the Driver's License provided\",\n",
    "            \"inputSchema\": {\n",
    "                \"json\": {\n",
    "                    \"type\": \"object\",\n",
    "                    \"properties\": {\n",
    "                        \"entities\": {\n",
    "                            \"type\": \"array\",\n",
    "                            \"items\": {\n",
    "                                \"type\": \"object\",\n",
    "                                \"properties\": {\n",
    "                                    \"DocumentType\": {\"type\": \"string\", \"description\": \"The document type of the submitted image\"},\n",
    "                                    \"IDNumber\": {\"type\": \"string\", \"description\": \"The ID Number of the document\"},\n",
    "                                    \"FirstName\": {\"type\": \"string\", \"description\": \"The first name or given name of the individual\"},\n",
    "                                    \"MiddletName\": {\"type\": \"string\", \"description\": \"The middle name or initial of the individual. If there is none, use 'N/A'.\"},\n",
    "                                    \"LastName\": {\"type\": \"string\", \"description\": \"The last name or family name of the individual\"},\n",
    "                                    \"Address\": {\"type\": \"string\", \"description\": \"The Address of the individual\"},\n",
    "                                    \"DOB\": {\"type\": \"string\", \"description\": \"The date of birth of the individual\"},\n",
    "                                    \"IssueDate\": {\"type\": \"string\", \"description\": \"The issue date of the document\"},\n",
    "                                    \"ExpiryDate\": {\"type\": \"string\", \"description\": \"The expiry date of the document\"}\n",
    "                                    \n",
    "                                    \n",
    "                                },\n",
    "                                \"required\": [\n",
    "                                    \"DocumentType\", \n",
    "                                    \"IDNumber\", \n",
    "                                    \"FirstName\",\n",
    "                                    \"MiddleName\",\n",
    "                                    \"LastName\",\n",
    "                                    \"Address\",\n",
    "                                    \"DOB\",\n",
    "                                    \"IssueDate\",\n",
    "                                    \"ExpiryDate\"\n",
    "                                ]\n",
    "                            }\n",
    "                        }\n",
    "                    },\n",
    "                    \"required\": [\"entities\"]\n",
    "                }\n",
    "            }\n",
    "        }\n",
    "    },\n",
    "    {\n",
    "        \"toolSpec\": {\n",
    "            \"name\": \"extract_visual\",\n",
    "            \"description\": \"Extract the following visual details from the Driver's License provided\",\n",
    "            \"inputSchema\": {\n",
    "                \"json\": {\n",
    "                    \"type\": \"object\",\n",
    "                    \"properties\": {\n",
    "                        \"entities\": {\n",
    "                            \"type\": \"array\",\n",
    "                            \"items\": {\n",
    "                                \"type\": \"object\",\n",
    "                                \"properties\": {\n",
    "                                    \"StateTextColor\": {\"type\": \"string\", \"description\": \"The color of the text that the State is written in\"},\n",
    "                                    \"SymbolTopRight\": {\"type\": \"string\", \"description\": \"The description of the symbol on the top right of the document\"},\n",
    "                                    \"SymbolBottomRight\": {\"type\": \"string\", \"description\": \"The description of the symbol on the bottom right of the document\"},\n",
    "                                    \"Signature\": {\"type\": \"string\", \"description\": \"color & style of the signature on the document\"},\n",
    "                                    \"Picture\": {\"type\": \"string\", \"description\": \"Description of the picture of the individual, and any obvious alterations present\"},\n",
    "                                    \"Blemishes\": {\"type\": \"string\", \"description\": \"Any visual blemishes present on the document\"}\n",
    "                                },\n",
    "                                \"required\": [\n",
    "                                    \"StateTextColor\", \n",
    "                                    \"SymbolTopRight\", \n",
    "                                    \"SymbolBottomRight\", \n",
    "                                    \"Signature\",\n",
    "                                    \"Picture\",\n",
    "                                    \"Blemishes\"\n",
    "                                ]\n",
    "                            }\n",
    "                        }\n",
    "                    },\n",
    "                    \"required\": [\"entities\"]\n",
    "                }\n",
    "            }\n",
    "        }\n",
    "    }\n",
    "]\n"
   ]
  },
  {
   "cell_type": "markdown",
   "id": "4b7598d8-d504-4eb3-953b-08be3748d2f5",
   "metadata": {},
   "source": [
    "In the cell below now we are setting up the Bedrock Converse API "
   ]
  },
  {
   "cell_type": "code",
   "execution_count": 7,
   "id": "b3154fd8-4a4b-4ff9-b817-ce64a28ca225",
   "metadata": {
    "tags": []
   },
   "outputs": [],
   "source": [
    "#Set up a function to call the Bedrock Converse API\n",
    "def invoke_bedrock_model(client, id, prompt, image_byte, max_tokens=2000, temperature=0, top_p=0.9):\n",
    "    response = \"\"\n",
    "    try:\n",
    "        response = client.converse(\n",
    "            modelId=id, #Passing Along modelId\n",
    "            toolConfig={\"tools\": tools},\n",
    "            messages=[ #Messages is where the payload goes\n",
    "                {\n",
    "                    \"role\": \"user\", #Indicating user input\n",
    "                    \"content\": [ #Content of the payload as an object \n",
    "                        {\n",
    "                            \"image\": { #Passing an image, we put this before the text as best practise \n",
    "                                \"format\": \"png\", #Image format\n",
    "                                \"source\": {\"bytes\": image_byte} #Passing image bytes \n",
    "                            }\n",
    "                        },\n",
    "                        {\n",
    "                            \"text\": prompt #indicating passing text, 'prompt' variable we will create in the cell below\n",
    "                        }\n",
    "                    ]\n",
    "                }\n",
    "            ],\n",
    "            inferenceConfig={ # Inference parameters\n",
    "                \"temperature\": temperature,\n",
    "                \"maxTokens\": max_tokens,\n",
    "                \"topP\": top_p\n",
    "            }\n",
    "            #additionalModelRequestFields={\n",
    "            #}\n",
    "        )\n",
    "    except Exception as e: #Catch model invocation errors \n",
    "        print(e)\n",
    "        result = \"Model invocation error\"\n",
    "    try:\n",
    "        result = response['output']['message']['content'][0]['text'] \\\n",
    "        + '\\n--- Latency: ' + str(response['metrics']['latencyMs']) \\\n",
    "        + 'ms - Input tokens:' + str(response['usage']['inputTokens']) \\\n",
    "        + ' - Output tokens:' + str(response['usage']['outputTokens']) + ' ---\\n' \n",
    "        return result\n",
    "    except Exception as e: #Catching parsing errors \n",
    "        print(e)\n",
    "        result = \"Output parsing error\"\n",
    "    #return result\n",
    "    return response"
   ]
  },
  {
   "cell_type": "markdown",
   "id": "5e1ff444-4dff-4e9c-b272-112a1f07984d",
   "metadata": {},
   "source": [
    "### 3. Inference "
   ]
  },
  {
   "cell_type": "code",
   "execution_count": 8,
   "id": "657fcca7-ff2f-4d14-9676-b06c917eeffd",
   "metadata": {
    "tags": []
   },
   "outputs": [
    {
     "name": "stdout",
     "output_type": "stream",
     "text": [
      "'text'\n",
      "{'ResponseMetadata': {'RequestId': '2b7b54aa-2ef0-4dba-8f98-4e0467d678d5', 'HTTPStatusCode': 200, 'HTTPHeaders': {'date': 'Tue, 16 Jul 2024 01:46:45 GMT', 'content-type': 'application/json', 'content-length': '524', 'connection': 'keep-alive', 'x-amzn-requestid': '2b7b54aa-2ef0-4dba-8f98-4e0467d678d5'}, 'RetryAttempts': 0}, 'output': {'message': {'role': 'assistant', 'content': [{'toolUse': {'toolUseId': 'tooluse_h_1j-ffJSQykWg7PIa3uZQ', 'name': 'extract_info', 'input': {'entities': [{'DocumentType': 'Driver License', 'IDNumber': '123 456 789', 'FirstName': 'Michelle', 'MiddleName': 'Marie', 'LastName': 'Motorist', 'Address': '2345 ANYWHERE STREET ALBANY, NY 12222', 'DOB': '10/31/1990', 'IssueDate': '03/07/2022', 'ExpiryDate': '10/31/2029'}]}}}]}}, 'stopReason': 'tool_use', 'usage': {'inputTokens': 1550, 'outputTokens': 173, 'totalTokens': 1723}, 'metrics': {'latencyMs': 4736}}\n",
      "CPU times: user 28.8 ms, sys: 7.42 ms, total: 36.2 ms\n",
      "Wall time: 4.8 s\n"
     ]
    }
   ],
   "source": [
    "%%time\n",
    "#User Input\n",
    "prompt = '''\n",
    "Use the extract_info tool based on the image given\n",
    "\n",
    "'''\n",
    "\n",
    "\n",
    "#Calling the Converse API\n",
    "response = invoke_bedrock_model(bedrock, modelId, prompt, image_byte)\n",
    "print(response)"
   ]
  },
  {
   "cell_type": "code",
   "execution_count": 9,
   "id": "f5e1c4ef-339d-49a6-9388-2f953e8e4e1f",
   "metadata": {
    "tags": []
   },
   "outputs": [
    {
     "name": "stdout",
     "output_type": "stream",
     "text": [
      "Extracted Entities (JSON):\n",
      "{\n",
      "  \"entities\": [\n",
      "    {\n",
      "      \"DocumentType\": \"Driver License\",\n",
      "      \"IDNumber\": \"123 456 789\",\n",
      "      \"FirstName\": \"Michelle\",\n",
      "      \"MiddleName\": \"Marie\",\n",
      "      \"LastName\": \"Motorist\",\n",
      "      \"Address\": \"2345 ANYWHERE STREET ALBANY, NY 12222\",\n",
      "      \"DOB\": \"10/31/1990\",\n",
      "      \"IssueDate\": \"03/07/2022\",\n",
      "      \"ExpiryDate\": \"10/31/2029\"\n",
      "    }\n",
      "  ]\n",
      "}\n"
     ]
    }
   ],
   "source": [
    "#Extract only the JSON Object \n",
    "json_entities = None\n",
    "for content in response['output']['message']['content']:\n",
    "    if \"toolUse\" in content and content['toolUse']['name'] == \"extract_info\":\n",
    "        json_entities = content['toolUse']['input']\n",
    "        break\n",
    "\n",
    "if json_entities:\n",
    "    print(\"Extracted Entities (JSON):\")\n",
    "    print(json.dumps(json_entities, indent=2))\n",
    "else:\n",
    "    print(\"No entities found in the response.\")"
   ]
  },
  {
   "cell_type": "code",
   "execution_count": 10,
   "id": "5e3b28da-a240-4275-9198-8b08adc40382",
   "metadata": {
    "tags": []
   },
   "outputs": [
    {
     "name": "stdout",
     "output_type": "stream",
     "text": [
      "'text'\n",
      "{'ResponseMetadata': {'RequestId': '8d825848-35b4-4f76-9cc2-b1ee645da525', 'HTTPStatusCode': 200, 'HTTPHeaders': {'date': 'Tue, 16 Jul 2024 01:46:53 GMT', 'content-type': 'application/json', 'content-length': '852', 'connection': 'keep-alive', 'x-amzn-requestid': '8d825848-35b4-4f76-9cc2-b1ee645da525'}, 'RetryAttempts': 0}, 'output': {'message': {'role': 'assistant', 'content': [{'toolUse': {'toolUseId': 'tooluse_DjupD22USterjScvMLpGDQ', 'name': 'extract_visual', 'input': {'entities': [{'StateTextColor': \"The text for 'New York State' is written in teal/blue color\", 'SymbolTopRight': 'There is a black star symbol in the top right corner', 'SymbolBottomRight': 'There are symbols of a bear, maple leaf, and paw print in the bottom right corner', 'Signature': 'The signature appears to be printed in black cursive font', 'Picture': 'The main photo shows a smiling person. The smaller photo appears to be the same individual with a neutral expression. No obvious alterations are visible.', 'Blemishes': 'No significant blemishes or damage is visible on the document'}]}}}]}}, 'stopReason': 'tool_use', 'usage': {'inputTokens': 1550, 'outputTokens': 209, 'totalTokens': 1759}, 'metrics': {'latencyMs': 7427}}\n",
      "CPU times: user 14.3 ms, sys: 8.17 ms, total: 22.5 ms\n",
      "Wall time: 7.47 s\n"
     ]
    }
   ],
   "source": [
    "%%time\n",
    "#User Input here we are using the \"extract_visual\" \n",
    "prompt = '''\n",
    "Use the extract_visual tool based on the image given\n",
    "'''\n",
    "\n",
    "\n",
    "#Calling the Converse API\n",
    "response = invoke_bedrock_model(bedrock, modelId, prompt, image_byte)\n",
    "print(response)"
   ]
  },
  {
   "cell_type": "code",
   "execution_count": 11,
   "id": "4683c6a3-d618-40a4-be52-1c61afaefdce",
   "metadata": {
    "tags": []
   },
   "outputs": [
    {
     "name": "stdout",
     "output_type": "stream",
     "text": [
      "Extracted Entities (JSON):\n",
      "{\n",
      "  \"entities\": [\n",
      "    {\n",
      "      \"StateTextColor\": \"The text for 'New York State' is written in teal/blue color\",\n",
      "      \"SymbolTopRight\": \"There is a black star symbol in the top right corner\",\n",
      "      \"SymbolBottomRight\": \"There are symbols of a bear, maple leaf, and paw print in the bottom right corner\",\n",
      "      \"Signature\": \"The signature appears to be printed in black cursive font\",\n",
      "      \"Picture\": \"The main photo shows a smiling person. The smaller photo appears to be the same individual with a neutral expression. No obvious alterations are visible.\",\n",
      "      \"Blemishes\": \"No significant blemishes or damage is visible on the document\"\n",
      "    }\n",
      "  ]\n",
      "}\n"
     ]
    }
   ],
   "source": [
    "#Extract only the JSON Object \n",
    "json_entities = None\n",
    "for content in response['output']['message']['content']:\n",
    "    if \"toolUse\" in content and content['toolUse']['name'] == \"extract_visual\":\n",
    "        json_entities = content['toolUse']['input']\n",
    "        break\n",
    "\n",
    "if json_entities:\n",
    "    print(\"Extracted Entities (JSON):\")\n",
    "    print(json.dumps(json_entities, indent=2))\n",
    "else:\n",
    "    print(\"No entities found in the response.\")"
   ]
  }
 ],
 "metadata": {
  "availableInstances": [
   {
    "_defaultOrder": 0,
    "_isFastLaunch": true,
    "category": "General purpose",
    "gpuNum": 0,
    "hideHardwareSpecs": false,
    "memoryGiB": 4,
    "name": "ml.t3.medium",
    "vcpuNum": 2
   },
   {
    "_defaultOrder": 1,
    "_isFastLaunch": false,
    "category": "General purpose",
    "gpuNum": 0,
    "hideHardwareSpecs": false,
    "memoryGiB": 8,
    "name": "ml.t3.large",
    "vcpuNum": 2
   },
   {
    "_defaultOrder": 2,
    "_isFastLaunch": false,
    "category": "General purpose",
    "gpuNum": 0,
    "hideHardwareSpecs": false,
    "memoryGiB": 16,
    "name": "ml.t3.xlarge",
    "vcpuNum": 4
   },
   {
    "_defaultOrder": 3,
    "_isFastLaunch": false,
    "category": "General purpose",
    "gpuNum": 0,
    "hideHardwareSpecs": false,
    "memoryGiB": 32,
    "name": "ml.t3.2xlarge",
    "vcpuNum": 8
   },
   {
    "_defaultOrder": 4,
    "_isFastLaunch": true,
    "category": "General purpose",
    "gpuNum": 0,
    "hideHardwareSpecs": false,
    "memoryGiB": 8,
    "name": "ml.m5.large",
    "vcpuNum": 2
   },
   {
    "_defaultOrder": 5,
    "_isFastLaunch": false,
    "category": "General purpose",
    "gpuNum": 0,
    "hideHardwareSpecs": false,
    "memoryGiB": 16,
    "name": "ml.m5.xlarge",
    "vcpuNum": 4
   },
   {
    "_defaultOrder": 6,
    "_isFastLaunch": false,
    "category": "General purpose",
    "gpuNum": 0,
    "hideHardwareSpecs": false,
    "memoryGiB": 32,
    "name": "ml.m5.2xlarge",
    "vcpuNum": 8
   },
   {
    "_defaultOrder": 7,
    "_isFastLaunch": false,
    "category": "General purpose",
    "gpuNum": 0,
    "hideHardwareSpecs": false,
    "memoryGiB": 64,
    "name": "ml.m5.4xlarge",
    "vcpuNum": 16
   },
   {
    "_defaultOrder": 8,
    "_isFastLaunch": false,
    "category": "General purpose",
    "gpuNum": 0,
    "hideHardwareSpecs": false,
    "memoryGiB": 128,
    "name": "ml.m5.8xlarge",
    "vcpuNum": 32
   },
   {
    "_defaultOrder": 9,
    "_isFastLaunch": false,
    "category": "General purpose",
    "gpuNum": 0,
    "hideHardwareSpecs": false,
    "memoryGiB": 192,
    "name": "ml.m5.12xlarge",
    "vcpuNum": 48
   },
   {
    "_defaultOrder": 10,
    "_isFastLaunch": false,
    "category": "General purpose",
    "gpuNum": 0,
    "hideHardwareSpecs": false,
    "memoryGiB": 256,
    "name": "ml.m5.16xlarge",
    "vcpuNum": 64
   },
   {
    "_defaultOrder": 11,
    "_isFastLaunch": false,
    "category": "General purpose",
    "gpuNum": 0,
    "hideHardwareSpecs": false,
    "memoryGiB": 384,
    "name": "ml.m5.24xlarge",
    "vcpuNum": 96
   },
   {
    "_defaultOrder": 12,
    "_isFastLaunch": false,
    "category": "General purpose",
    "gpuNum": 0,
    "hideHardwareSpecs": false,
    "memoryGiB": 8,
    "name": "ml.m5d.large",
    "vcpuNum": 2
   },
   {
    "_defaultOrder": 13,
    "_isFastLaunch": false,
    "category": "General purpose",
    "gpuNum": 0,
    "hideHardwareSpecs": false,
    "memoryGiB": 16,
    "name": "ml.m5d.xlarge",
    "vcpuNum": 4
   },
   {
    "_defaultOrder": 14,
    "_isFastLaunch": false,
    "category": "General purpose",
    "gpuNum": 0,
    "hideHardwareSpecs": false,
    "memoryGiB": 32,
    "name": "ml.m5d.2xlarge",
    "vcpuNum": 8
   },
   {
    "_defaultOrder": 15,
    "_isFastLaunch": false,
    "category": "General purpose",
    "gpuNum": 0,
    "hideHardwareSpecs": false,
    "memoryGiB": 64,
    "name": "ml.m5d.4xlarge",
    "vcpuNum": 16
   },
   {
    "_defaultOrder": 16,
    "_isFastLaunch": false,
    "category": "General purpose",
    "gpuNum": 0,
    "hideHardwareSpecs": false,
    "memoryGiB": 128,
    "name": "ml.m5d.8xlarge",
    "vcpuNum": 32
   },
   {
    "_defaultOrder": 17,
    "_isFastLaunch": false,
    "category": "General purpose",
    "gpuNum": 0,
    "hideHardwareSpecs": false,
    "memoryGiB": 192,
    "name": "ml.m5d.12xlarge",
    "vcpuNum": 48
   },
   {
    "_defaultOrder": 18,
    "_isFastLaunch": false,
    "category": "General purpose",
    "gpuNum": 0,
    "hideHardwareSpecs": false,
    "memoryGiB": 256,
    "name": "ml.m5d.16xlarge",
    "vcpuNum": 64
   },
   {
    "_defaultOrder": 19,
    "_isFastLaunch": false,
    "category": "General purpose",
    "gpuNum": 0,
    "hideHardwareSpecs": false,
    "memoryGiB": 384,
    "name": "ml.m5d.24xlarge",
    "vcpuNum": 96
   },
   {
    "_defaultOrder": 20,
    "_isFastLaunch": false,
    "category": "General purpose",
    "gpuNum": 0,
    "hideHardwareSpecs": true,
    "memoryGiB": 0,
    "name": "ml.geospatial.interactive",
    "supportedImageNames": [
     "sagemaker-geospatial-v1-0"
    ],
    "vcpuNum": 0
   },
   {
    "_defaultOrder": 21,
    "_isFastLaunch": true,
    "category": "Compute optimized",
    "gpuNum": 0,
    "hideHardwareSpecs": false,
    "memoryGiB": 4,
    "name": "ml.c5.large",
    "vcpuNum": 2
   },
   {
    "_defaultOrder": 22,
    "_isFastLaunch": false,
    "category": "Compute optimized",
    "gpuNum": 0,
    "hideHardwareSpecs": false,
    "memoryGiB": 8,
    "name": "ml.c5.xlarge",
    "vcpuNum": 4
   },
   {
    "_defaultOrder": 23,
    "_isFastLaunch": false,
    "category": "Compute optimized",
    "gpuNum": 0,
    "hideHardwareSpecs": false,
    "memoryGiB": 16,
    "name": "ml.c5.2xlarge",
    "vcpuNum": 8
   },
   {
    "_defaultOrder": 24,
    "_isFastLaunch": false,
    "category": "Compute optimized",
    "gpuNum": 0,
    "hideHardwareSpecs": false,
    "memoryGiB": 32,
    "name": "ml.c5.4xlarge",
    "vcpuNum": 16
   },
   {
    "_defaultOrder": 25,
    "_isFastLaunch": false,
    "category": "Compute optimized",
    "gpuNum": 0,
    "hideHardwareSpecs": false,
    "memoryGiB": 72,
    "name": "ml.c5.9xlarge",
    "vcpuNum": 36
   },
   {
    "_defaultOrder": 26,
    "_isFastLaunch": false,
    "category": "Compute optimized",
    "gpuNum": 0,
    "hideHardwareSpecs": false,
    "memoryGiB": 96,
    "name": "ml.c5.12xlarge",
    "vcpuNum": 48
   },
   {
    "_defaultOrder": 27,
    "_isFastLaunch": false,
    "category": "Compute optimized",
    "gpuNum": 0,
    "hideHardwareSpecs": false,
    "memoryGiB": 144,
    "name": "ml.c5.18xlarge",
    "vcpuNum": 72
   },
   {
    "_defaultOrder": 28,
    "_isFastLaunch": false,
    "category": "Compute optimized",
    "gpuNum": 0,
    "hideHardwareSpecs": false,
    "memoryGiB": 192,
    "name": "ml.c5.24xlarge",
    "vcpuNum": 96
   },
   {
    "_defaultOrder": 29,
    "_isFastLaunch": true,
    "category": "Accelerated computing",
    "gpuNum": 1,
    "hideHardwareSpecs": false,
    "memoryGiB": 16,
    "name": "ml.g4dn.xlarge",
    "vcpuNum": 4
   },
   {
    "_defaultOrder": 30,
    "_isFastLaunch": false,
    "category": "Accelerated computing",
    "gpuNum": 1,
    "hideHardwareSpecs": false,
    "memoryGiB": 32,
    "name": "ml.g4dn.2xlarge",
    "vcpuNum": 8
   },
   {
    "_defaultOrder": 31,
    "_isFastLaunch": false,
    "category": "Accelerated computing",
    "gpuNum": 1,
    "hideHardwareSpecs": false,
    "memoryGiB": 64,
    "name": "ml.g4dn.4xlarge",
    "vcpuNum": 16
   },
   {
    "_defaultOrder": 32,
    "_isFastLaunch": false,
    "category": "Accelerated computing",
    "gpuNum": 1,
    "hideHardwareSpecs": false,
    "memoryGiB": 128,
    "name": "ml.g4dn.8xlarge",
    "vcpuNum": 32
   },
   {
    "_defaultOrder": 33,
    "_isFastLaunch": false,
    "category": "Accelerated computing",
    "gpuNum": 4,
    "hideHardwareSpecs": false,
    "memoryGiB": 192,
    "name": "ml.g4dn.12xlarge",
    "vcpuNum": 48
   },
   {
    "_defaultOrder": 34,
    "_isFastLaunch": false,
    "category": "Accelerated computing",
    "gpuNum": 1,
    "hideHardwareSpecs": false,
    "memoryGiB": 256,
    "name": "ml.g4dn.16xlarge",
    "vcpuNum": 64
   },
   {
    "_defaultOrder": 35,
    "_isFastLaunch": false,
    "category": "Accelerated computing",
    "gpuNum": 1,
    "hideHardwareSpecs": false,
    "memoryGiB": 61,
    "name": "ml.p3.2xlarge",
    "vcpuNum": 8
   },
   {
    "_defaultOrder": 36,
    "_isFastLaunch": false,
    "category": "Accelerated computing",
    "gpuNum": 4,
    "hideHardwareSpecs": false,
    "memoryGiB": 244,
    "name": "ml.p3.8xlarge",
    "vcpuNum": 32
   },
   {
    "_defaultOrder": 37,
    "_isFastLaunch": false,
    "category": "Accelerated computing",
    "gpuNum": 8,
    "hideHardwareSpecs": false,
    "memoryGiB": 488,
    "name": "ml.p3.16xlarge",
    "vcpuNum": 64
   },
   {
    "_defaultOrder": 38,
    "_isFastLaunch": false,
    "category": "Accelerated computing",
    "gpuNum": 8,
    "hideHardwareSpecs": false,
    "memoryGiB": 768,
    "name": "ml.p3dn.24xlarge",
    "vcpuNum": 96
   },
   {
    "_defaultOrder": 39,
    "_isFastLaunch": false,
    "category": "Memory Optimized",
    "gpuNum": 0,
    "hideHardwareSpecs": false,
    "memoryGiB": 16,
    "name": "ml.r5.large",
    "vcpuNum": 2
   },
   {
    "_defaultOrder": 40,
    "_isFastLaunch": false,
    "category": "Memory Optimized",
    "gpuNum": 0,
    "hideHardwareSpecs": false,
    "memoryGiB": 32,
    "name": "ml.r5.xlarge",
    "vcpuNum": 4
   },
   {
    "_defaultOrder": 41,
    "_isFastLaunch": false,
    "category": "Memory Optimized",
    "gpuNum": 0,
    "hideHardwareSpecs": false,
    "memoryGiB": 64,
    "name": "ml.r5.2xlarge",
    "vcpuNum": 8
   },
   {
    "_defaultOrder": 42,
    "_isFastLaunch": false,
    "category": "Memory Optimized",
    "gpuNum": 0,
    "hideHardwareSpecs": false,
    "memoryGiB": 128,
    "name": "ml.r5.4xlarge",
    "vcpuNum": 16
   },
   {
    "_defaultOrder": 43,
    "_isFastLaunch": false,
    "category": "Memory Optimized",
    "gpuNum": 0,
    "hideHardwareSpecs": false,
    "memoryGiB": 256,
    "name": "ml.r5.8xlarge",
    "vcpuNum": 32
   },
   {
    "_defaultOrder": 44,
    "_isFastLaunch": false,
    "category": "Memory Optimized",
    "gpuNum": 0,
    "hideHardwareSpecs": false,
    "memoryGiB": 384,
    "name": "ml.r5.12xlarge",
    "vcpuNum": 48
   },
   {
    "_defaultOrder": 45,
    "_isFastLaunch": false,
    "category": "Memory Optimized",
    "gpuNum": 0,
    "hideHardwareSpecs": false,
    "memoryGiB": 512,
    "name": "ml.r5.16xlarge",
    "vcpuNum": 64
   },
   {
    "_defaultOrder": 46,
    "_isFastLaunch": false,
    "category": "Memory Optimized",
    "gpuNum": 0,
    "hideHardwareSpecs": false,
    "memoryGiB": 768,
    "name": "ml.r5.24xlarge",
    "vcpuNum": 96
   },
   {
    "_defaultOrder": 47,
    "_isFastLaunch": false,
    "category": "Accelerated computing",
    "gpuNum": 1,
    "hideHardwareSpecs": false,
    "memoryGiB": 16,
    "name": "ml.g5.xlarge",
    "vcpuNum": 4
   },
   {
    "_defaultOrder": 48,
    "_isFastLaunch": false,
    "category": "Accelerated computing",
    "gpuNum": 1,
    "hideHardwareSpecs": false,
    "memoryGiB": 32,
    "name": "ml.g5.2xlarge",
    "vcpuNum": 8
   },
   {
    "_defaultOrder": 49,
    "_isFastLaunch": false,
    "category": "Accelerated computing",
    "gpuNum": 1,
    "hideHardwareSpecs": false,
    "memoryGiB": 64,
    "name": "ml.g5.4xlarge",
    "vcpuNum": 16
   },
   {
    "_defaultOrder": 50,
    "_isFastLaunch": false,
    "category": "Accelerated computing",
    "gpuNum": 1,
    "hideHardwareSpecs": false,
    "memoryGiB": 128,
    "name": "ml.g5.8xlarge",
    "vcpuNum": 32
   },
   {
    "_defaultOrder": 51,
    "_isFastLaunch": false,
    "category": "Accelerated computing",
    "gpuNum": 1,
    "hideHardwareSpecs": false,
    "memoryGiB": 256,
    "name": "ml.g5.16xlarge",
    "vcpuNum": 64
   },
   {
    "_defaultOrder": 52,
    "_isFastLaunch": false,
    "category": "Accelerated computing",
    "gpuNum": 4,
    "hideHardwareSpecs": false,
    "memoryGiB": 192,
    "name": "ml.g5.12xlarge",
    "vcpuNum": 48
   },
   {
    "_defaultOrder": 53,
    "_isFastLaunch": false,
    "category": "Accelerated computing",
    "gpuNum": 4,
    "hideHardwareSpecs": false,
    "memoryGiB": 384,
    "name": "ml.g5.24xlarge",
    "vcpuNum": 96
   },
   {
    "_defaultOrder": 54,
    "_isFastLaunch": false,
    "category": "Accelerated computing",
    "gpuNum": 8,
    "hideHardwareSpecs": false,
    "memoryGiB": 768,
    "name": "ml.g5.48xlarge",
    "vcpuNum": 192
   },
   {
    "_defaultOrder": 55,
    "_isFastLaunch": false,
    "category": "Accelerated computing",
    "gpuNum": 8,
    "hideHardwareSpecs": false,
    "memoryGiB": 1152,
    "name": "ml.p4d.24xlarge",
    "vcpuNum": 96
   },
   {
    "_defaultOrder": 56,
    "_isFastLaunch": false,
    "category": "Accelerated computing",
    "gpuNum": 8,
    "hideHardwareSpecs": false,
    "memoryGiB": 1152,
    "name": "ml.p4de.24xlarge",
    "vcpuNum": 96
   },
   {
    "_defaultOrder": 57,
    "_isFastLaunch": false,
    "category": "Accelerated computing",
    "gpuNum": 0,
    "hideHardwareSpecs": false,
    "memoryGiB": 32,
    "name": "ml.trn1.2xlarge",
    "vcpuNum": 8
   },
   {
    "_defaultOrder": 58,
    "_isFastLaunch": false,
    "category": "Accelerated computing",
    "gpuNum": 0,
    "hideHardwareSpecs": false,
    "memoryGiB": 512,
    "name": "ml.trn1.32xlarge",
    "vcpuNum": 128
   },
   {
    "_defaultOrder": 59,
    "_isFastLaunch": false,
    "category": "Accelerated computing",
    "gpuNum": 0,
    "hideHardwareSpecs": false,
    "memoryGiB": 512,
    "name": "ml.trn1n.32xlarge",
    "vcpuNum": 128
   }
  ],
  "instance_type": "ml.t3.medium",
  "kernelspec": {
   "display_name": "Python 3 (ipykernel) (arn:aws:sagemaker:us-east-1:081325390199:image/sagemaker-data-science-310-v1)",
   "language": "python",
   "name": "python3__SAGEMAKER_INTERNAL__arn:aws:sagemaker:us-east-1:081325390199:image/sagemaker-data-science-310-v1"
  },
  "language_info": {
   "codemirror_mode": {
    "name": "ipython",
    "version": 3
   },
   "file_extension": ".py",
   "mimetype": "text/x-python",
   "name": "python",
   "nbconvert_exporter": "python",
   "pygments_lexer": "ipython3",
   "version": "3.10.6"
  }
 },
 "nbformat": 4,
 "nbformat_minor": 5
}
